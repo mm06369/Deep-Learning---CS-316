{
  "nbformat": 4,
  "nbformat_minor": 0,
  "metadata": {
    "colab": {
      "provenance": [],
      "gpuType": "T4"
    },
    "kernelspec": {
      "name": "python3",
      "display_name": "Python 3"
    },
    "language_info": {
      "name": "python"
    },
    "accelerator": "GPU"
  },
  "cells": [
    {
      "cell_type": "markdown",
      "source": [
        "# CS 316 : Introduction to Deep Learning\n",
        "## Lab 08 : Introduction to Tensorflow & CNNs\n",
        "### Dr. Abdul Samad"
      ],
      "metadata": {
        "id": "Sg4ClogU13X-"
      }
    },
    {
      "cell_type": "markdown",
      "source": [
        "#Instructions\n",
        "\n",
        "1. Please rename your notebook as Lab_8_aa1234.ipynb before the final submission. Notebooks which do not follow appropriate naming convention will not be graded.\n",
        "2. The deadline to submit this lab is 11:59 PM.\n",
        "3. Please submit your own work. If you have any questions, please feel free to reach out to the course instructor , RA or TA."
      ],
      "metadata": {
        "id": "SJgjARYO2j8D"
      }
    },
    {
      "cell_type": "markdown",
      "source": [
        "# Overview\n",
        "In this lab, you have been given an implementation of the LeNet model for classfying the MNIST model. Your task is to perform model fine-tuning and hyperparameter tuning to improve the model's peformance."
      ],
      "metadata": {
        "id": "XopcFe9c3ger"
      }
    },
    {
      "cell_type": "markdown",
      "source": [
        "# Setup"
      ],
      "metadata": {
        "id": "Jueroxf3HQPV"
      }
    },
    {
      "cell_type": "code",
      "execution_count": null,
      "metadata": {
        "id": "_KW1QQBdHNF9"
      },
      "outputs": [],
      "source": [
        "# DO NOT EDIT\n",
        "import tensorflow as tf\n",
        "from tensorflow.keras import layers, models\n",
        "from tensorflow.keras.datasets import fashion_mnist\n",
        "from tensorflow.keras.utils import to_categorical"
      ]
    },
    {
      "cell_type": "markdown",
      "source": [
        "# Load Fashion MNIST"
      ],
      "metadata": {
        "id": "iJEWw_qBHmjA"
      }
    },
    {
      "cell_type": "code",
      "source": [
        "# DO NOT EDIT\n",
        "# Load the Fashion MNIST dataset\n",
        "(train_images, train_labels), (test_images, test_labels) = fashion_mnist.load_data()"
      ],
      "metadata": {
        "colab": {
          "base_uri": "https://localhost:8080/"
        },
        "id": "bP7JBR5JHn-u",
        "outputId": "e3d8a5ae-b72b-4b34-96bb-f2c96a0cb0fe"
      },
      "execution_count": null,
      "outputs": [
        {
          "output_type": "stream",
          "name": "stdout",
          "text": [
            "Downloading data from https://storage.googleapis.com/tensorflow/tf-keras-datasets/train-labels-idx1-ubyte.gz\n",
            "29515/29515 [==============================] - 0s 0us/step\n",
            "Downloading data from https://storage.googleapis.com/tensorflow/tf-keras-datasets/train-images-idx3-ubyte.gz\n",
            "26421880/26421880 [==============================] - 0s 0us/step\n",
            "Downloading data from https://storage.googleapis.com/tensorflow/tf-keras-datasets/t10k-labels-idx1-ubyte.gz\n",
            "5148/5148 [==============================] - 0s 0us/step\n",
            "Downloading data from https://storage.googleapis.com/tensorflow/tf-keras-datasets/t10k-images-idx3-ubyte.gz\n",
            "4422102/4422102 [==============================] - 0s 0us/step\n"
          ]
        }
      ]
    },
    {
      "cell_type": "markdown",
      "source": [
        "# Preprocess the dataset"
      ],
      "metadata": {
        "id": "U_6dnLp6Hqn6"
      }
    },
    {
      "cell_type": "code",
      "source": [
        "# DO NOT EDIT\n",
        "# Preprocess the data\n",
        "train_images = train_images.reshape((60000, 28, 28, 1))\n",
        "test_images = test_images.reshape((10000, 28, 28, 1))\n",
        "train_images = train_images.astype('float32') / 255\n",
        "test_images = test_images.astype('float32') / 255"
      ],
      "metadata": {
        "id": "8npSQGH8HvoS"
      },
      "execution_count": null,
      "outputs": []
    },
    {
      "cell_type": "markdown",
      "source": [
        "# Convert Labels to Categorical"
      ],
      "metadata": {
        "id": "eYb_smjfH4N2"
      }
    },
    {
      "cell_type": "code",
      "source": [
        "# DO NOT EDIT\n",
        "train_labels = to_categorical(train_labels)\n",
        "test_labels = to_categorical(test_labels)"
      ],
      "metadata": {
        "id": "6QfjMgeOH2eJ"
      },
      "execution_count": null,
      "outputs": []
    },
    {
      "cell_type": "markdown",
      "source": [
        "# Plot sample images from the dataset"
      ],
      "metadata": {
        "id": "iif3V0VEH-09"
      }
    },
    {
      "cell_type": "code",
      "source": [
        "# DO NOT EDIT\n",
        "#Plot sample images\n",
        "import matplotlib.pyplot as plt\n",
        "# Select a random image from the training set\n",
        "random_image = train_images[0]\n",
        "plt.imshow(random_image, cmap='gray')"
      ],
      "metadata": {
        "colab": {
          "base_uri": "https://localhost:8080/",
          "height": 447
        },
        "id": "HDPvcMVeICpk",
        "outputId": "c369cbb4-63d5-48b0-9fe0-fa4ad810b1a3"
      },
      "execution_count": null,
      "outputs": [
        {
          "output_type": "execute_result",
          "data": {
            "text/plain": [
              "<matplotlib.image.AxesImage at 0x7cb3e2fb8fa0>"
            ]
          },
          "metadata": {},
          "execution_count": 7
        },
        {
          "output_type": "display_data",
          "data": {
            "text/plain": [
              "<Figure size 640x480 with 1 Axes>"
            ],
            "image/png": "[encoded data removed]"
          },
          "metadata": {}
        }
      ]
    },
    {
      "cell_type": "markdown",
      "source": [
        "# Create LeNet-5 Model"
      ],
      "metadata": {
        "id": "iwGOZeW9IO1F"
      }
    },
    {
      "cell_type": "code",
      "source": [
        "# DO NOT EDIT\n",
        "# Define LeNet-5 model using the LeNet class\n",
        "class LeNet:\n",
        "  def __init__(self, input_shape, num_classes):\n",
        "    self.input_shape = input_shape\n",
        "    self.num_classes = num_classes\n",
        "    self.model = self.build_model()\n",
        "\n",
        "  # Build the model\n",
        "  def build_model(self):\n",
        "    model = models.Sequential()\n",
        "    model.add(layers.Conv2D(6, (5, 5), activation='sigmoid', input_shape=self.input_shape,padding='same'))\n",
        "    model.add(layers.AveragePooling2D((2, 2)))\n",
        "    model.add(layers.Conv2D(16, (5, 5), activation='sigmoid'))\n",
        "    model.add(layers.AveragePooling2D((2, 2)))\n",
        "    model.add(layers.Flatten())\n",
        "    model.add(layers.Dense(120, activation='sigmoid'))\n",
        "    model.add(layers.Dense(84, activation='sigmoid'))\n",
        "    model.add(layers.Dense(self.num_classes, activation='linear'))\n",
        "    return model\n",
        "  # Compile the model\n",
        "  def compile(self, optimizer, loss, metrics):\n",
        "    self.model.compile(optimizer=optimizer, loss=loss, metrics=metrics)\n",
        "  # Train the model\n",
        "  def fit(self, x, y, epochs, validation_split):\n",
        "    return self.model.fit(x, y, epochs=epochs, validation_split=validation_split)\n",
        "  # Model summary\n",
        "  def summary(self):\n",
        "    return self.model.summary()\n",
        "  # Evaluate the model\n",
        "  def evaluate(self, x, y):\n",
        "    return self.model.evaluate(x, y)\n",
        "  # Save the model\n",
        "  def save(self, path):\n",
        "    self.model.save(path)\n",
        "  # Load the model\n",
        "  def load(self, path):\n",
        "    self.model = tf.keras.models.load_model(path)\n"
      ],
      "metadata": {
        "id": "-EpGW1gXIRjf"
      },
      "execution_count": null,
      "outputs": []
    },
    {
      "cell_type": "code",
      "source": [
        "# DO NOT EDIT\n",
        "# Instantiate the model\n",
        "model = LeNet(input_shape=(28, 28, 1), num_classes=10)\n",
        "# Summarize the model\n",
        "model.summary()\n",
        "# Compile the model\n",
        "model.compile(optimizer='adam', loss='mse', metrics=['accuracy'])\n",
        "# Train the model\n",
        "model.fit(train_images, train_labels, epochs=5, validation_split=0.1)\n",
        "# Save the model\n",
        "model.save('original.keras')\n",
        "# Load the model\n",
        "model = tf.keras.models.load_model('original.keras')\n",
        "# Evaluate the model\n",
        "model.evaluate(test_images, test_labels)"
      ],
      "metadata": {
        "colab": {
          "base_uri": "https://localhost:8080/"
        },
        "id": "vR-oyk6VIzxG",
        "outputId": "f5402307-c4c8-4985-d2ae-592a0c7701b0"
      },
      "execution_count": null,
      "outputs": [
        {
          "output_type": "stream",
          "name": "stdout",
          "text": [
            "Model: \"sequential\"\n",
            "_________________________________________________________________\n",
            " Layer (type)                Output Shape              Param #   \n",
            "=================================================================\n",
            " conv2d (Conv2D)             (None, 28, 28, 6)         156       \n",
            "                                                                 \n",
            " average_pooling2d (Average  (None, 14, 14, 6)         0         \n",
            " Pooling2D)                                                      \n",
            "                                                                 \n",
            " conv2d_1 (Conv2D)           (None, 10, 10, 16)        2416      \n",
            "                                                                 \n",
            " average_pooling2d_1 (Avera  (None, 5, 5, 16)          0         \n",
            " gePooling2D)                                                    \n",
            "                                                                 \n",
            " flatten (Flatten)           (None, 400)               0         \n",
            "                                                                 \n",
            " dense (Dense)               (None, 120)               48120     \n",
            "                                                                 \n",
            " dense_1 (Dense)             (None, 84)                10164     \n",
            "                                                                 \n",
            " dense_2 (Dense)             (None, 10)                850       \n",
            "                                                                 \n",
            "=================================================================\n",
            "Total params: 61706 (241.04 KB)\n",
            "Trainable params: 61706 (241.04 KB)\n",
            "Non-trainable params: 0 (0.00 Byte)\n",
            "_________________________________________________________________\n",
            "Epoch 1/5\n",
            "1688/1688 [==============================] - 20s 5ms/step - loss: 0.0622 - accuracy: 0.5141 - val_loss: 0.0375 - val_accuracy: 0.7470\n",
            "Epoch 2/5\n",
            "1688/1688 [==============================] - 7s 4ms/step - loss: 0.0336 - accuracy: 0.7726 - val_loss: 0.0291 - val_accuracy: 0.8060\n",
            "Epoch 3/5\n",
            "1688/1688 [==============================] - 8s 5ms/step - loss: 0.0277 - accuracy: 0.8200 - val_loss: 0.0270 - val_accuracy: 0.8210\n",
            "Epoch 4/5\n",
            "1688/1688 [==============================] - 7s 4ms/step - loss: 0.0248 - accuracy: 0.8407 - val_loss: 0.0233 - val_accuracy: 0.8430\n",
            "Epoch 5/5\n",
            "1688/1688 [==============================] - 8s 5ms/step - loss: 0.0228 - accuracy: 0.8528 - val_loss: 0.0218 - val_accuracy: 0.8512\n",
            "313/313 [==============================] - 1s 2ms/step - loss: 0.0229 - accuracy: 0.8455\n"
          ]
        },
        {
          "output_type": "execute_result",
          "data": {
            "text/plain": [
              "[0.022901741787791252, 0.8454999923706055]"
            ]
          },
          "metadata": {},
          "execution_count": 9
        }
      ]
    },
    {
      "cell_type": "markdown",
      "source": [
        "# [10 Points] Task 01 - Add more CNN Layers"
      ],
      "metadata": {
        "id": "6P8Lk7wzvK7h"
      }
    },
    {
      "cell_type": "markdown",
      "source": [
        "In this task, you have to modify the existing LeNet model to add more CNN layers. In order to do this you will create a new class `LeNetCNN` which will be based on the `LeNet` class shared earlier. After implementing the `LeNetCNN` class you have to train the model in the same way as earlier. You are also required to save the model\n",
        "\n",
        "---\n",
        "\n"
      ],
      "metadata": {
        "id": "Vf6J7zC055pE"
      }
    },
    {
      "cell_type": "code",
      "source": [
        "#TODO: Implement LeNetCNN\n",
        "class LeNetCNN:\n",
        "  def __init__(self, input_shape, num_classes):\n",
        "    self.input_shape = input_shape\n",
        "    self.num_classes = num_classes\n",
        "    self.model = self.build_model()\n",
        "\n",
        "  # Build the model\n",
        "  def build_model(self):\n",
        "    # Write your code here\n",
        "    model = models.Sequential()\n",
        "    model.add(layers.Conv2D(6, (5, 5), activation='sigmoid', input_shape=self.input_shape,padding='same'))\n",
        "    model.add(layers.AveragePooling2D((2, 2)))\n",
        "    model.add(layers.Conv2D(8, (5, 5), activation='sigmoid'))\n",
        "    model.add(layers.Conv2D(16, (5, 5), activation='sigmoid'))\n",
        "    model.add(layers.Conv2D(8, (5, 5), activation='sigmoid'))\n",
        "\n",
        "    model.add(layers.AveragePooling2D((2, 2)))\n",
        "    model.add(layers.Flatten())\n",
        "    model.add(layers.Dense(120, activation='sigmoid'))\n",
        "    model.add(layers.Dense(84, activation='sigmoid'))\n",
        "    model.add(layers.Dense(self.num_classes, activation='linear'))\n",
        "    return model\n",
        "  # Compile the model\n",
        "  def compile(self, optimizer, loss, metrics):\n",
        "    self.model.compile(optimizer=optimizer, loss=loss, metrics=metrics)\n",
        "  # Train the model\n",
        "  def fit(self, x, y, epochs, validation_split):\n",
        "    return self.model.fit(x, y, epochs=epochs, validation_split=validation_split)\n",
        "  # Model summary\n",
        "  def summary(self):\n",
        "    return self.model.summary()\n",
        "  # Evaluate the model\n",
        "  def evaluate(self, x, y):\n",
        "    return self.model.evaluate(x, y)\n",
        "  # Save the model\n",
        "  def save(self, path):\n",
        "    self.model.save(path)\n",
        "  # Load the model\n",
        "  def load(self, path):\n",
        "    self.model = tf.keras.models.load_model(path)\n"
      ],
      "metadata": {
        "id": "6lleF3R--jpu"
      },
      "execution_count": null,
      "outputs": []
    },
    {
      "cell_type": "code",
      "source": [
        "# Instantiate the model\n",
        "model = LeNetCNN(input_shape=(28, 28, 1), num_classes=10)\n",
        "# Summarize the model\n",
        "model.summary()\n",
        "# Compile the model\n",
        "model.compile(optimizer='adam', loss='mse', metrics=['accuracy'])\n",
        "# Train the model\n",
        "model.fit(train_images, train_labels, epochs=5, validation_split=0.1)\n",
        "# Save the model\n",
        "model.save('original_cnn.keras')\n",
        "# Load the model\n",
        "model = tf.keras.models.load_model('original_cnn.keras')\n",
        "# Evaluate the model\n",
        "model.evaluate(test_images, test_labels)"
      ],
      "metadata": {
        "id": "Un7oHiz__ODf",
        "colab": {
          "base_uri": "https://localhost:8080/"
        },
        "outputId": "14534eaa-0885-4219-8df5-f243ca6962be"
      },
      "execution_count": null,
      "outputs": [
        {
          "output_type": "stream",
          "name": "stdout",
          "text": [
            "Model: \"sequential_29\"\n",
            "_________________________________________________________________\n",
            " Layer (type)                Output Shape              Param #   \n",
            "=================================================================\n",
            " conv2d_89 (Conv2D)          (None, 28, 28, 6)         156       \n",
            "                                                                 \n",
            " average_pooling2d_72 (Aver  (None, 14, 14, 6)         0         \n",
            " agePooling2D)                                                   \n",
            "                                                                 \n",
            " conv2d_90 (Conv2D)          (None, 10, 10, 8)         1208      \n",
            "                                                                 \n",
            " conv2d_91 (Conv2D)          (None, 6, 6, 16)          3216      \n",
            "                                                                 \n",
            " conv2d_92 (Conv2D)          (None, 2, 2, 8)           3208      \n",
            "                                                                 \n",
            " average_pooling2d_73 (Aver  (None, 1, 1, 8)           0         \n",
            " agePooling2D)                                                   \n",
            "                                                                 \n",
            " flatten_11 (Flatten)        (None, 8)                 0         \n",
            "                                                                 \n",
            " dense_33 (Dense)            (None, 120)               1080      \n",
            "                                                                 \n",
            " dense_34 (Dense)            (None, 84)                10164     \n",
            "                                                                 \n",
            " dense_35 (Dense)            (None, 10)                850       \n",
            "                                                                 \n",
            "=================================================================\n",
            "Total params: 19882 (77.66 KB)\n",
            "Trainable params: 19882 (77.66 KB)\n",
            "Non-trainable params: 0 (0.00 Byte)\n",
            "_________________________________________________________________\n",
            "Epoch 1/5\n",
            "1688/1688 [==============================] - 11s 5ms/step - loss: 0.0788 - accuracy: 0.3014 - val_loss: 0.0576 - val_accuracy: 0.5297\n",
            "Epoch 2/5\n",
            "1688/1688 [==============================] - 9s 5ms/step - loss: 0.0529 - accuracy: 0.5538 - val_loss: 0.0489 - val_accuracy: 0.5927\n",
            "Epoch 3/5\n",
            "1688/1688 [==============================] - 10s 6ms/step - loss: 0.0421 - accuracy: 0.6829 - val_loss: 0.0372 - val_accuracy: 0.7167\n",
            "Epoch 4/5\n",
            "1688/1688 [==============================] - 10s 6ms/step - loss: 0.0360 - accuracy: 0.7284 - val_loss: 0.0347 - val_accuracy: 0.7328\n",
            "Epoch 5/5\n",
            "1688/1688 [==============================] - 11s 6ms/step - loss: 0.0341 - accuracy: 0.7353 - val_loss: 0.0333 - val_accuracy: 0.7372\n",
            "313/313 [==============================] - 1s 4ms/step - loss: 0.0341 - accuracy: 0.7354\n"
          ]
        },
        {
          "output_type": "execute_result",
          "data": {
            "text/plain": [
              "[0.034058183431625366, 0.7354000210762024]"
            ]
          },
          "metadata": {},
          "execution_count": 66
        }
      ]
    },
    {
      "cell_type": "markdown",
      "source": [
        "# [10 Points] Task 02 - Add more Dense Layers"
      ],
      "metadata": {
        "id": "edLgFroP_so_"
      }
    },
    {
      "cell_type": "markdown",
      "source": [
        "In this task, you have to modify the existing LeNet model to add more CNN layers. In order to do this you will create a new class `LeNetDense` which will be based on the `LeNet` class shared earlier. After implementing the `LeNetDense` class you have to train the model in the same way as earlier. You are also required to save the model\n",
        "\n",
        "---\n",
        "\n"
      ],
      "metadata": {
        "id": "6TuIbeX__2l6"
      }
    },
    {
      "cell_type": "code",
      "source": [
        "#TODO: Implement LeNetDense\n",
        "class LeNetDense:\n",
        "  def __init__(self, input_shape, num_classes):\n",
        "    self.input_shape = input_shape\n",
        "    self.num_classes = num_classes\n",
        "    self.model = self.build_model()\n",
        "\n",
        "  # Build the model\n",
        "  def build_model(self):\n",
        "    model = models.Sequential()\n",
        "    model.add(layers.Conv2D(6, (5, 5), activation='sigmoid', input_shape=self.input_shape,padding='same'))\n",
        "    model.add(layers.AveragePooling2D((2, 2)))\n",
        "    model.add(layers.Conv2D(16, (5, 5), activation='sigmoid'))\n",
        "    model.add(layers.AveragePooling2D((2, 2)))\n",
        "    model.add(layers.Flatten())\n",
        "    model.add(layers.Dense(120, activation='sigmoid'))\n",
        "    model.add(layers.Dense(84, activation='sigmoid'))\n",
        "    model.add(layers.Dense(62, activation='sigmoid'))\n",
        "    model.add(layers.Dense(38, activation='sigmoid'))\n",
        "    model.add(layers.Dense(self.num_classes, activation='linear'))\n",
        "    return model\n",
        "\n",
        "    return model\n",
        "  # Compile the model\n",
        "  def compile(self, optimizer, loss, metrics):\n",
        "    self.model.compile(optimizer=optimizer, loss=loss, metrics=metrics)\n",
        "  # Train the model\n",
        "  def fit(self, x, y, epochs, validation_split):\n",
        "    return self.model.fit(x, y, epochs=epochs, validation_split=validation_split)\n",
        "  # Model summary\n",
        "  def summary(self):\n",
        "    return self.model.summary()\n",
        "  # Evaluate the model\n",
        "  def evaluate(self, x, y):\n",
        "    return self.model.evaluate(x, y)\n",
        "  # Save the model\n",
        "  def save(self, path):\n",
        "    self.model.save(path)\n",
        "  # Load the model\n",
        "  def load(self, path):\n",
        "    self.model = tf.keras.models.load_model(path)\n"
      ],
      "metadata": {
        "id": "Wms3kPJP_uwY"
      },
      "execution_count": null,
      "outputs": []
    },
    {
      "cell_type": "code",
      "source": [
        "# Instantiate the model\n",
        "model = LeNetDense(input_shape=(28, 28, 1), num_classes=10)\n",
        "# Summarize the model\n",
        "model.summary()\n",
        "# Compile the model\n",
        "model.compile(optimizer='adam', loss='mse', metrics=['accuracy'])\n",
        "# Train the model\n",
        "model.fit(train_images, train_labels, epochs=5, validation_split=0.1)\n",
        "# Save the model\n",
        "model.save('original_dense.keras')\n",
        "# Load the model\n",
        "model = tf.keras.models.load_model('original_cnn.keras')\n",
        "# Evaluate the model\n",
        "model.evaluate(test_images, test_labels)"
      ],
      "metadata": {
        "id": "0ou44DWHAG-h",
        "colab": {
          "base_uri": "https://localhost:8080/"
        },
        "outputId": "7c1f57c3-bec4-4021-9454-11f801beb1ef"
      },
      "execution_count": null,
      "outputs": [
        {
          "output_type": "stream",
          "name": "stdout",
          "text": [
            "Model: \"sequential_31\"\n",
            "_________________________________________________________________\n",
            " Layer (type)                Output Shape              Param #   \n",
            "=================================================================\n",
            " conv2d_95 (Conv2D)          (None, 28, 28, 6)         156       \n",
            "                                                                 \n",
            " average_pooling2d_76 (Aver  (None, 14, 14, 6)         0         \n",
            " agePooling2D)                                                   \n",
            "                                                                 \n",
            " conv2d_96 (Conv2D)          (None, 10, 10, 16)        2416      \n",
            "                                                                 \n",
            " average_pooling2d_77 (Aver  (None, 5, 5, 16)          0         \n",
            " agePooling2D)                                                   \n",
            "                                                                 \n",
            " flatten_13 (Flatten)        (None, 400)               0         \n",
            "                                                                 \n",
            " dense_41 (Dense)            (None, 120)               48120     \n",
            "                                                                 \n",
            " dense_42 (Dense)            (None, 84)                10164     \n",
            "                                                                 \n",
            " dense_43 (Dense)            (None, 62)                5270      \n",
            "                                                                 \n",
            " dense_44 (Dense)            (None, 38)                2394      \n",
            "                                                                 \n",
            " dense_45 (Dense)            (None, 10)                390       \n",
            "                                                                 \n",
            "=================================================================\n",
            "Total params: 68910 (269.18 KB)\n",
            "Trainable params: 68910 (269.18 KB)\n",
            "Non-trainable params: 0 (0.00 Byte)\n",
            "_________________________________________________________________\n",
            "Epoch 1/5\n",
            "1688/1688 [==============================] - 12s 5ms/step - loss: 0.0652 - accuracy: 0.4439 - val_loss: 0.0377 - val_accuracy: 0.7375\n",
            "Epoch 2/5\n",
            "1688/1688 [==============================] - 9s 5ms/step - loss: 0.0328 - accuracy: 0.7642 - val_loss: 0.0282 - val_accuracy: 0.8042\n",
            "Epoch 3/5\n",
            "1688/1688 [==============================] - 8s 5ms/step - loss: 0.0274 - accuracy: 0.8101 - val_loss: 0.0256 - val_accuracy: 0.8177\n",
            "Epoch 4/5\n",
            "1688/1688 [==============================] - 9s 5ms/step - loss: 0.0246 - accuracy: 0.8323 - val_loss: 0.0235 - val_accuracy: 0.8388\n",
            "Epoch 5/5\n",
            "1688/1688 [==============================] - 9s 5ms/step - loss: 0.0226 - accuracy: 0.8461 - val_loss: 0.0223 - val_accuracy: 0.8487\n",
            "313/313 [==============================] - 1s 3ms/step - loss: 0.0341 - accuracy: 0.7354\n"
          ]
        },
        {
          "output_type": "execute_result",
          "data": {
            "text/plain": [
              "[0.034058183431625366, 0.7354000210762024]"
            ]
          },
          "metadata": {},
          "execution_count": 69
        }
      ]
    },
    {
      "cell_type": "markdown",
      "source": [
        "# [10 Points] Task 03 - Replace Activation function"
      ],
      "metadata": {
        "id": "3GfGRfI1AP78"
      }
    },
    {
      "cell_type": "markdown",
      "source": [
        "In this task, you have to modify the existing LeNet model to replace the sigmoid activation function with ReLU activation function. In order to do this you will create a new class `LeNetAct` which will be based on the `LeNet` class shared earlier. After implementing the `LeNetAct` class you have to train the model in the same way as earlier. You are also required to save the model\n",
        "\n",
        "---\n",
        "\n"
      ],
      "metadata": {
        "id": "mps_TGziAqVK"
      }
    },
    {
      "cell_type": "code",
      "source": [
        "#TODO: Implement LeNetAct\n",
        "class LeNetAct:\n",
        "  def __init__(self, input_shape, num_classes):\n",
        "    self.input_shape = input_shape\n",
        "    self.num_classes = num_classes\n",
        "    self.model = self.build_model()\n",
        "\n",
        "  # Build the model\n",
        "  def build_model(self):\n",
        "    # Write your code here\n",
        "    model = models.Sequential()\n",
        "    model.add(layers.Conv2D(6, (5, 5), activation='relu', input_shape=self.input_shape,padding='same'))\n",
        "    model.add(layers.AveragePooling2D((2, 2)))\n",
        "    model.add(layers.Conv2D(16, (5, 5), activation='relu'))\n",
        "    model.add(layers.AveragePooling2D((2, 2)))\n",
        "    model.add(layers.Flatten())\n",
        "    model.add(layers.Dense(120, activation='relu'))\n",
        "    model.add(layers.Dense(84, activation='relu'))\n",
        "    model.add(layers.Dense(self.num_classes, activation='linear'))\n",
        "    return model\n",
        "  # Compile the model\n",
        "  def compile(self, optimizer, loss, metrics):\n",
        "    self.model.compile(optimizer=optimizer, loss=loss, metrics=metrics)\n",
        "  # Train the model\n",
        "  def fit(self, x, y, epochs, validation_split):\n",
        "    return self.model.fit(x, y, epochs=epochs, validation_split=validation_split)\n",
        "  # Model summary\n",
        "  def summary(self):\n",
        "    return self.model.summary()\n",
        "  # Evaluate the model\n",
        "  def evaluate(self, x, y):\n",
        "    return self.model.evaluate(x, y)\n",
        "  # Save the model\n",
        "  def save(self, path):\n",
        "    self.model.save(path)\n",
        "  # Load the model\n",
        "  def load(self, path):\n",
        "    self.model = tf.keras.models.load_model(path)\n"
      ],
      "metadata": {
        "id": "pITx812xApjQ"
      },
      "execution_count": null,
      "outputs": []
    },
    {
      "cell_type": "code",
      "source": [
        "# Instantiate the model\n",
        "model = LeNetAct(input_shape=(28, 28, 1), num_classes=10)\n",
        "# Summarize the model\n",
        "model.summary()\n",
        "# Compile the model\n",
        "model.compile(optimizer='adam', loss='mse', metrics=['accuracy'])\n",
        "# Train the model\n",
        "model.fit(train_images, train_labels, epochs=5, validation_split=0.1)\n",
        "# Save the model\n",
        "model.save('original_act.keras')\n",
        "# Load the model\n",
        "model = tf.keras.models.load_model('original_act.keras')\n",
        "# Evaluate the model\n",
        "model.evaluate(test_images, test_labels)"
      ],
      "metadata": {
        "id": "HNtzC8ErDeHh",
        "colab": {
          "base_uri": "https://localhost:8080/"
        },
        "outputId": "8cbda689-2451-4451-8bfc-dbc6229a4881"
      },
      "execution_count": null,
      "outputs": [
        {
          "output_type": "stream",
          "name": "stdout",
          "text": [
            "Model: \"sequential_34\"\n",
            "_________________________________________________________________\n",
            " Layer (type)                Output Shape              Param #   \n",
            "=================================================================\n",
            " conv2d_101 (Conv2D)         (None, 28, 28, 6)         156       \n",
            "                                                                 \n",
            " average_pooling2d_82 (Aver  (None, 14, 14, 6)         0         \n",
            " agePooling2D)                                                   \n",
            "                                                                 \n",
            " conv2d_102 (Conv2D)         (None, 10, 10, 16)        2416      \n",
            "                                                                 \n",
            " average_pooling2d_83 (Aver  (None, 5, 5, 16)          0         \n",
            " agePooling2D)                                                   \n",
            "                                                                 \n",
            " flatten_16 (Flatten)        (None, 400)               0         \n",
            "                                                                 \n",
            " dense_52 (Dense)            (None, 120)               48120     \n",
            "                                                                 \n",
            " dense_53 (Dense)            (None, 84)                10164     \n",
            "                                                                 \n",
            " dense_54 (Dense)            (None, 10)                850       \n",
            "                                                                 \n",
            "=================================================================\n",
            "Total params: 61706 (241.04 KB)\n",
            "Trainable params: 61706 (241.04 KB)\n",
            "Non-trainable params: 0 (0.00 Byte)\n",
            "_________________________________________________________________\n",
            "Epoch 1/5\n",
            "1688/1688 [==============================] - 9s 4ms/step - loss: 0.0268 - accuracy: 0.8295 - val_loss: 0.0207 - val_accuracy: 0.8683\n",
            "Epoch 2/5\n",
            "1688/1688 [==============================] - 8s 5ms/step - loss: 0.0181 - accuracy: 0.8840 - val_loss: 0.0171 - val_accuracy: 0.8848\n",
            "Epoch 3/5\n",
            "1688/1688 [==============================] - 8s 5ms/step - loss: 0.0160 - accuracy: 0.8966 - val_loss: 0.0181 - val_accuracy: 0.8798\n",
            "Epoch 4/5\n",
            "1688/1688 [==============================] - 7s 4ms/step - loss: 0.0148 - accuracy: 0.9039 - val_loss: 0.0163 - val_accuracy: 0.8955\n",
            "Epoch 5/5\n",
            "1688/1688 [==============================] - 8s 5ms/step - loss: 0.0139 - accuracy: 0.9093 - val_loss: 0.0151 - val_accuracy: 0.9003\n",
            "313/313 [==============================] - 1s 2ms/step - loss: 0.0158 - accuracy: 0.8950\n"
          ]
        },
        {
          "output_type": "execute_result",
          "data": {
            "text/plain": [
              "[0.015787439420819283, 0.8949999809265137]"
            ]
          },
          "metadata": {},
          "execution_count": 75
        }
      ]
    },
    {
      "cell_type": "markdown",
      "source": [
        "# [10 Points] Task 04 - Replace Loss function"
      ],
      "metadata": {
        "id": "9lyw9XkBDnXi"
      }
    },
    {
      "cell_type": "markdown",
      "source": [
        "In this task, you have to modify the existing LeNet model by using the cross entropy loss instead of mean squared error. You will also have to replace the linear activation function with sigmoid activation function in the last layer. In order to do this you will create a new class `LeNetLoss` which will be based on the `LeNet` class shared earlier. After implementing the `LeNetLoss` class you have to train the model in the same way as earlier. You are also required to save the model\n",
        "\n",
        "---\n",
        "\n"
      ],
      "metadata": {
        "id": "3wr9YrL2DyaH"
      }
    },
    {
      "cell_type": "code",
      "source": [
        "#TODO: Implement LeNetLoss\n",
        "class LeNetLoss:\n",
        "  def __init__(self, input_shape, num_classes):\n",
        "    self.input_shape = input_shape\n",
        "    self.num_classes = num_classes\n",
        "    self.model = self.build_model()\n",
        "\n",
        "  # Build the model\n",
        "  def build_model(self):\n",
        "    model = models.Sequential()\n",
        "    model.add(layers.Conv2D(6, (5, 5), activation='sigmoid', input_shape=self.input_shape,padding='same'))\n",
        "    model.add(layers.AveragePooling2D((2, 2)))\n",
        "    model.add(layers.Conv2D(16, (5, 5), activation='sigmoid'))\n",
        "    model.add(layers.AveragePooling2D((2, 2)))\n",
        "    model.add(layers.Flatten())\n",
        "    model.add(layers.Dense(120, activation='sigmoid'))\n",
        "    model.add(layers.Dense(84, activation='sigmoid'))\n",
        "    model.add(layers.Dense(self.num_classes, activation='sigmoid'))\n",
        "\n",
        "    return model\n",
        "  # Compile the model\n",
        "  def compile(self, optimizer, loss, metrics):\n",
        "    self.model.compile(optimizer=optimizer, loss=loss, metrics=metrics)\n",
        "  # Train the model\n",
        "  def fit(self, x, y, epochs, validation_split):\n",
        "    return self.model.fit(x, y, epochs=epochs, validation_split=validation_split)\n",
        "  # Model summary\n",
        "  def summary(self):\n",
        "    return self.model.summary()\n",
        "  # Evaluate the model\n",
        "  def evaluate(self, x, y):\n",
        "    return self.model.evaluate(x, y)\n",
        "  # Save the model\n",
        "  def save(self, path):\n",
        "    self.model.save(path)\n",
        "  # Load the model\n",
        "  def load(self, path):\n",
        "    self.model = tf.keras.models.load_model(path)\n"
      ],
      "metadata": {
        "id": "fD8r_g5vDxq1"
      },
      "execution_count": null,
      "outputs": []
    },
    {
      "cell_type": "code",
      "source": [
        "# Instantiate the model\n",
        "model = LeNetLoss(input_shape=(28, 28, 1), num_classes=10)\n",
        "# Summarize the model\n",
        "model.summary()\n",
        "# Compile the model\n",
        "model.compile(optimizer='adam', loss='categorical_crossentropy', metrics=['accuracy'])\n",
        "# Train the model\n",
        "model.fit(train_images, train_labels, epochs=5, validation_split=0.1)\n",
        "# Save the model\n",
        "model.save('original_loss.keras')\n",
        "# Load the model\n",
        "model = tf.keras.models.load_model('original_loss.keras')\n",
        "# Evaluate the model\n",
        "model.evaluate(test_images, test_labels)"
      ],
      "metadata": {
        "id": "ofZAHNd0EXkZ",
        "colab": {
          "base_uri": "https://localhost:8080/"
        },
        "outputId": "f16dfc12-6ebd-45cc-cd4b-7193352eb029"
      },
      "execution_count": null,
      "outputs": [
        {
          "output_type": "stream",
          "name": "stdout",
          "text": [
            "Model: \"sequential_36\"\n",
            "_________________________________________________________________\n",
            " Layer (type)                Output Shape              Param #   \n",
            "=================================================================\n",
            " conv2d_105 (Conv2D)         (None, 28, 28, 6)         156       \n",
            "                                                                 \n",
            " average_pooling2d_86 (Aver  (None, 14, 14, 6)         0         \n",
            " agePooling2D)                                                   \n",
            "                                                                 \n",
            " conv2d_106 (Conv2D)         (None, 10, 10, 16)        2416      \n",
            "                                                                 \n",
            " average_pooling2d_87 (Aver  (None, 5, 5, 16)          0         \n",
            " agePooling2D)                                                   \n",
            "                                                                 \n",
            " flatten_18 (Flatten)        (None, 400)               0         \n",
            "                                                                 \n",
            " dense_58 (Dense)            (None, 120)               48120     \n",
            "                                                                 \n",
            " dense_59 (Dense)            (None, 84)                10164     \n",
            "                                                                 \n",
            " dense_60 (Dense)            (None, 10)                850       \n",
            "                                                                 \n",
            "=================================================================\n",
            "Total params: 61706 (241.04 KB)\n",
            "Trainable params: 61706 (241.04 KB)\n",
            "Non-trainable params: 0 (0.00 Byte)\n",
            "_________________________________________________________________\n",
            "Epoch 1/5\n",
            "1688/1688 [==============================] - 10s 5ms/step - loss: 0.9781 - accuracy: 0.6382 - val_loss: 0.6258 - val_accuracy: 0.7562\n",
            "Epoch 2/5\n",
            "1688/1688 [==============================] - 7s 4ms/step - loss: 0.5917 - accuracy: 0.7732 - val_loss: 0.5273 - val_accuracy: 0.7917\n",
            "Epoch 3/5\n",
            "1688/1688 [==============================] - 8s 5ms/step - loss: 0.5085 - accuracy: 0.8096 - val_loss: 0.4605 - val_accuracy: 0.8267\n",
            "Epoch 4/5\n",
            "1688/1688 [==============================] - 8s 5ms/step - loss: 0.4521 - accuracy: 0.8328 - val_loss: 0.4338 - val_accuracy: 0.8373\n",
            "Epoch 5/5\n",
            "1688/1688 [==============================] - 8s 5ms/step - loss: 0.4192 - accuracy: 0.8456 - val_loss: 0.4520 - val_accuracy: 0.8285\n",
            "313/313 [==============================] - 1s 3ms/step - loss: 0.4735 - accuracy: 0.8201\n"
          ]
        },
        {
          "output_type": "execute_result",
          "data": {
            "text/plain": [
              "[0.47350162267684937, 0.8201000094413757]"
            ]
          },
          "metadata": {},
          "execution_count": 78
        }
      ]
    },
    {
      "cell_type": "markdown",
      "source": [
        "#[10 Points] Task 05 - Use SGD optimizer"
      ],
      "metadata": {
        "id": "aSAGyeHqE9N_"
      }
    },
    {
      "cell_type": "markdown",
      "source": [
        "In this task instead of modifying the LeNet model, you will be training the model using SGD instead of Adam."
      ],
      "metadata": {
        "id": "uWFSoBQ5FKWH"
      }
    },
    {
      "cell_type": "code",
      "source": [
        "# Instantiate the\n",
        "model = LeNet(input_shape=(28, 28, 1), num_classes=10)\n",
        "# Summarize the model\n",
        "model.summary()\n",
        "# Compile the model using SGD\n",
        "model.compile(optimizer='SGD', loss='categorical_crossentropy', metrics=['accuracy'])\n",
        "# Train the model\n",
        "model.fit(train_images, train_labels, epochs=5, validation_split=0.1)\n",
        "# Save the model\n",
        "model.save('original_sgd.keras')\n",
        "# Load the model\n",
        "model = tf.keras.models.load_model('original_sgd.keras')\n",
        "# Evaluate the model\n",
        "model.evaluate(test_images, test_labels)"
      ],
      "metadata": {
        "id": "PwHMK2GiFJeO",
        "colab": {
          "base_uri": "https://localhost:8080/"
        },
        "outputId": "3623775d-dd78-493b-8ec9-ce6d3c0ba45e"
      },
      "execution_count": null,
      "outputs": [
        {
          "output_type": "stream",
          "name": "stdout",
          "text": [
            "Model: \"sequential_37\"\n",
            "_________________________________________________________________\n",
            " Layer (type)                Output Shape              Param #   \n",
            "=================================================================\n",
            " conv2d_107 (Conv2D)         (None, 28, 28, 6)         156       \n",
            "                                                                 \n",
            " average_pooling2d_88 (Aver  (None, 14, 14, 6)         0         \n",
            " agePooling2D)                                                   \n",
            "                                                                 \n",
            " conv2d_108 (Conv2D)         (None, 10, 10, 16)        2416      \n",
            "                                                                 \n",
            " average_pooling2d_89 (Aver  (None, 5, 5, 16)          0         \n",
            " agePooling2D)                                                   \n",
            "                                                                 \n",
            " flatten_19 (Flatten)        (None, 400)               0         \n",
            "                                                                 \n",
            " dense_61 (Dense)            (None, 120)               48120     \n",
            "                                                                 \n",
            " dense_62 (Dense)            (None, 84)                10164     \n",
            "                                                                 \n",
            " dense_63 (Dense)            (None, 10)                850       \n",
            "                                                                 \n",
            "=================================================================\n",
            "Total params: 61706 (241.04 KB)\n",
            "Trainable params: 61706 (241.04 KB)\n",
            "Non-trainable params: 0 (0.00 Byte)\n",
            "_________________________________________________________________\n",
            "Epoch 1/5\n",
            "1688/1688 [==============================] - 12s 5ms/step - loss: 4.8405 - accuracy: 0.1003 - val_loss: 4.8462 - val_accuracy: 0.0973\n",
            "Epoch 2/5\n",
            "1688/1688 [==============================] - 8s 4ms/step - loss: 4.8342 - accuracy: 0.1003 - val_loss: 4.8462 - val_accuracy: 0.0973\n",
            "Epoch 3/5\n",
            "1688/1688 [==============================] - 8s 5ms/step - loss: 4.8342 - accuracy: 0.1003 - val_loss: 4.8462 - val_accuracy: 0.0973\n",
            "Epoch 4/5\n",
            "1688/1688 [==============================] - 8s 5ms/step - loss: 4.8342 - accuracy: 0.1003 - val_loss: 4.8462 - val_accuracy: 0.0973\n",
            "Epoch 5/5\n",
            "1688/1688 [==============================] - 7s 4ms/step - loss: 4.8342 - accuracy: 0.1003 - val_loss: 4.8462 - val_accuracy: 0.0973\n",
            "313/313 [==============================] - 1s 2ms/step - loss: 4.8354 - accuracy: 0.1000\n"
          ]
        },
        {
          "output_type": "execute_result",
          "data": {
            "text/plain": [
              "[4.835432052612305, 0.10000000149011612]"
            ]
          },
          "metadata": {},
          "execution_count": 79
        }
      ]
    },
    {
      "cell_type": "markdown",
      "source": [
        "# [10 Points] Task 06 - Vary the number of Epochs\n"
      ],
      "metadata": {
        "id": "X9wwovFbFyyr"
      }
    },
    {
      "cell_type": "markdown",
      "source": [
        "In this task instead of modifying the LeNet model, you will be fine tuing the number of epochs."
      ],
      "metadata": {
        "id": "v32-OY--GA6_"
      }
    },
    {
      "cell_type": "code",
      "source": [
        "# Instantiate the model\n",
        "model = LeNet(input_shape=(28, 28, 1), num_classes=10)\n",
        "# Summarize the model\n",
        "model.summary()\n",
        "# Compile the model\n",
        "model.compile(optimizer='adam', loss='mse', metrics=['accuracy'])\n",
        "# Modify the number of epochs\n",
        "model.fit(train_images, train_labels, epochs=50, validation_split=0.1)\n",
        "# Save the model\n",
        "model.save('original_epoch.keras')\n",
        "# Load the model\n",
        "model = tf.keras.models.load_model('original_epoch.keras')\n",
        "# Evaluate the model\n",
        "model.evaluate(test_images, test_labels)"
      ],
      "metadata": {
        "id": "7NK4xc0qF-2e",
        "colab": {
          "base_uri": "https://localhost:8080/"
        },
        "outputId": "607af666-344d-43eb-86ea-a7633526eb34"
      },
      "execution_count": null,
      "outputs": [
        {
          "output_type": "stream",
          "name": "stdout",
          "text": [
            "Model: \"sequential_38\"\n",
            "_________________________________________________________________\n",
            " Layer (type)                Output Shape              Param #   \n",
            "=================================================================\n",
            " conv2d_109 (Conv2D)         (None, 28, 28, 6)         156       \n",
            "                                                                 \n",
            " average_pooling2d_90 (Aver  (None, 14, 14, 6)         0         \n",
            " agePooling2D)                                                   \n",
            "                                                                 \n",
            " conv2d_110 (Conv2D)         (None, 10, 10, 16)        2416      \n",
            "                                                                 \n",
            " average_pooling2d_91 (Aver  (None, 5, 5, 16)          0         \n",
            " agePooling2D)                                                   \n",
            "                                                                 \n",
            " flatten_20 (Flatten)        (None, 400)               0         \n",
            "                                                                 \n",
            " dense_64 (Dense)            (None, 120)               48120     \n",
            "                                                                 \n",
            " dense_65 (Dense)            (None, 84)                10164     \n",
            "                                                                 \n",
            " dense_66 (Dense)            (None, 10)                850       \n",
            "                                                                 \n",
            "=================================================================\n",
            "Total params: 61706 (241.04 KB)\n",
            "Trainable params: 61706 (241.04 KB)\n",
            "Non-trainable params: 0 (0.00 Byte)\n",
            "_________________________________________________________________\n",
            "Epoch 1/50\n",
            "1688/1688 [==============================] - 10s 5ms/step - loss: 0.0570 - accuracy: 0.5627 - val_loss: 0.0354 - val_accuracy: 0.7572\n",
            "Epoch 2/50\n",
            "1688/1688 [==============================] - 8s 5ms/step - loss: 0.0327 - accuracy: 0.7778 - val_loss: 0.0286 - val_accuracy: 0.8125\n",
            "Epoch 3/50\n",
            "1688/1688 [==============================] - 8s 5ms/step - loss: 0.0275 - accuracy: 0.8205 - val_loss: 0.0262 - val_accuracy: 0.8255\n",
            "Epoch 4/50\n",
            "1688/1688 [==============================] - 9s 5ms/step - loss: 0.0245 - accuracy: 0.8409 - val_loss: 0.0236 - val_accuracy: 0.8432\n",
            "Epoch 5/50\n",
            "1688/1688 [==============================] - 8s 5ms/step - loss: 0.0226 - accuracy: 0.8539 - val_loss: 0.0226 - val_accuracy: 0.8470\n",
            "Epoch 6/50\n",
            "1688/1688 [==============================] - 7s 4ms/step - loss: 0.0213 - accuracy: 0.8627 - val_loss: 0.0211 - val_accuracy: 0.8568\n",
            "Epoch 7/50\n",
            "1688/1688 [==============================] - 8s 5ms/step - loss: 0.0203 - accuracy: 0.8679 - val_loss: 0.0202 - val_accuracy: 0.8612\n",
            "Epoch 8/50\n",
            "1688/1688 [==============================] - 8s 5ms/step - loss: 0.0195 - accuracy: 0.8744 - val_loss: 0.0200 - val_accuracy: 0.8680\n",
            "Epoch 9/50\n",
            "1688/1688 [==============================] - 7s 4ms/step - loss: 0.0188 - accuracy: 0.8777 - val_loss: 0.0193 - val_accuracy: 0.8682\n",
            "Epoch 10/50\n",
            "1688/1688 [==============================] - 8s 5ms/step - loss: 0.0182 - accuracy: 0.8839 - val_loss: 0.0189 - val_accuracy: 0.8723\n",
            "Epoch 11/50\n",
            "1688/1688 [==============================] - 7s 4ms/step - loss: 0.0177 - accuracy: 0.8858 - val_loss: 0.0187 - val_accuracy: 0.8708\n",
            "Epoch 12/50\n",
            "1688/1688 [==============================] - 8s 5ms/step - loss: 0.0172 - accuracy: 0.8891 - val_loss: 0.0179 - val_accuracy: 0.8802\n",
            "Epoch 13/50\n",
            "1688/1688 [==============================] - 9s 5ms/step - loss: 0.0168 - accuracy: 0.8913 - val_loss: 0.0177 - val_accuracy: 0.8797\n",
            "Epoch 14/50\n",
            "1688/1688 [==============================] - 8s 4ms/step - loss: 0.0164 - accuracy: 0.8931 - val_loss: 0.0176 - val_accuracy: 0.8802\n",
            "Epoch 15/50\n",
            "1688/1688 [==============================] - 8s 5ms/step - loss: 0.0160 - accuracy: 0.8958 - val_loss: 0.0172 - val_accuracy: 0.8840\n",
            "Epoch 16/50\n",
            "1688/1688 [==============================] - 8s 5ms/step - loss: 0.0157 - accuracy: 0.8974 - val_loss: 0.0169 - val_accuracy: 0.8848\n",
            "Epoch 17/50\n",
            "1688/1688 [==============================] - 7s 4ms/step - loss: 0.0153 - accuracy: 0.8999 - val_loss: 0.0172 - val_accuracy: 0.8863\n",
            "Epoch 18/50\n",
            "1688/1688 [==============================] - 8s 5ms/step - loss: 0.0150 - accuracy: 0.9022 - val_loss: 0.0166 - val_accuracy: 0.8890\n",
            "Epoch 19/50\n",
            "1688/1688 [==============================] - 9s 5ms/step - loss: 0.0148 - accuracy: 0.9029 - val_loss: 0.0163 - val_accuracy: 0.8905\n",
            "Epoch 20/50\n",
            "1688/1688 [==============================] - 7s 4ms/step - loss: 0.0145 - accuracy: 0.9049 - val_loss: 0.0167 - val_accuracy: 0.8908\n",
            "Epoch 21/50\n",
            "1688/1688 [==============================] - 8s 5ms/step - loss: 0.0142 - accuracy: 0.9076 - val_loss: 0.0166 - val_accuracy: 0.8890\n",
            "Epoch 22/50\n",
            "1688/1688 [==============================] - 8s 5ms/step - loss: 0.0140 - accuracy: 0.9084 - val_loss: 0.0164 - val_accuracy: 0.8877\n",
            "Epoch 23/50\n",
            "1688/1688 [==============================] - 8s 5ms/step - loss: 0.0137 - accuracy: 0.9104 - val_loss: 0.0161 - val_accuracy: 0.8912\n",
            "Epoch 24/50\n",
            "1688/1688 [==============================] - 8s 5ms/step - loss: 0.0135 - accuracy: 0.9115 - val_loss: 0.0156 - val_accuracy: 0.8945\n",
            "Epoch 25/50\n",
            "1688/1688 [==============================] - 8s 5ms/step - loss: 0.0133 - accuracy: 0.9139 - val_loss: 0.0154 - val_accuracy: 0.8958\n",
            "Epoch 26/50\n",
            "1688/1688 [==============================] - 8s 4ms/step - loss: 0.0131 - accuracy: 0.9141 - val_loss: 0.0160 - val_accuracy: 0.8900\n",
            "Epoch 27/50\n",
            "1688/1688 [==============================] - 8s 5ms/step - loss: 0.0128 - accuracy: 0.9164 - val_loss: 0.0154 - val_accuracy: 0.8953\n",
            "Epoch 28/50\n",
            "1688/1688 [==============================] - 7s 4ms/step - loss: 0.0126 - accuracy: 0.9180 - val_loss: 0.0149 - val_accuracy: 0.9008\n",
            "Epoch 29/50\n",
            "1688/1688 [==============================] - 8s 5ms/step - loss: 0.0124 - accuracy: 0.9193 - val_loss: 0.0150 - val_accuracy: 0.8955\n",
            "Epoch 30/50\n",
            "1688/1688 [==============================] - 8s 5ms/step - loss: 0.0122 - accuracy: 0.9201 - val_loss: 0.0149 - val_accuracy: 0.8998\n",
            "Epoch 31/50\n",
            "1688/1688 [==============================] - 7s 4ms/step - loss: 0.0121 - accuracy: 0.9221 - val_loss: 0.0149 - val_accuracy: 0.8998\n",
            "Epoch 32/50\n",
            "1688/1688 [==============================] - 8s 5ms/step - loss: 0.0119 - accuracy: 0.9237 - val_loss: 0.0145 - val_accuracy: 0.9013\n",
            "Epoch 33/50\n",
            "1688/1688 [==============================] - 8s 5ms/step - loss: 0.0117 - accuracy: 0.9244 - val_loss: 0.0144 - val_accuracy: 0.9015\n",
            "Epoch 34/50\n",
            "1688/1688 [==============================] - 7s 4ms/step - loss: 0.0115 - accuracy: 0.9249 - val_loss: 0.0147 - val_accuracy: 0.8985\n",
            "Epoch 35/50\n",
            "1688/1688 [==============================] - 9s 5ms/step - loss: 0.0113 - accuracy: 0.9273 - val_loss: 0.0146 - val_accuracy: 0.9008\n",
            "Epoch 36/50\n",
            "1688/1688 [==============================] - 8s 5ms/step - loss: 0.0111 - accuracy: 0.9282 - val_loss: 0.0143 - val_accuracy: 0.9020\n",
            "Epoch 37/50\n",
            "1688/1688 [==============================] - 8s 4ms/step - loss: 0.0110 - accuracy: 0.9291 - val_loss: 0.0145 - val_accuracy: 0.9030\n",
            "Epoch 38/50\n",
            "1688/1688 [==============================] - 8s 5ms/step - loss: 0.0108 - accuracy: 0.9301 - val_loss: 0.0147 - val_accuracy: 0.9013\n",
            "Epoch 39/50\n",
            "1688/1688 [==============================] - 7s 4ms/step - loss: 0.0106 - accuracy: 0.9322 - val_loss: 0.0146 - val_accuracy: 0.9010\n",
            "Epoch 40/50\n",
            "1688/1688 [==============================] - 8s 5ms/step - loss: 0.0105 - accuracy: 0.9325 - val_loss: 0.0142 - val_accuracy: 0.9032\n",
            "Epoch 41/50\n",
            "1688/1688 [==============================] - 8s 5ms/step - loss: 0.0104 - accuracy: 0.9340 - val_loss: 0.0141 - val_accuracy: 0.9035\n",
            "Epoch 42/50\n",
            "1688/1688 [==============================] - 7s 4ms/step - loss: 0.0102 - accuracy: 0.9354 - val_loss: 0.0146 - val_accuracy: 0.9033\n",
            "Epoch 43/50\n",
            "1688/1688 [==============================] - 8s 5ms/step - loss: 0.0100 - accuracy: 0.9366 - val_loss: 0.0143 - val_accuracy: 0.9035\n",
            "Epoch 44/50\n",
            "1688/1688 [==============================] - 8s 5ms/step - loss: 0.0099 - accuracy: 0.9370 - val_loss: 0.0146 - val_accuracy: 0.9017\n",
            "Epoch 45/50\n",
            "1688/1688 [==============================] - 7s 4ms/step - loss: 0.0097 - accuracy: 0.9388 - val_loss: 0.0145 - val_accuracy: 0.9027\n",
            "Epoch 46/50\n",
            "1688/1688 [==============================] - 8s 5ms/step - loss: 0.0096 - accuracy: 0.9397 - val_loss: 0.0144 - val_accuracy: 0.9028\n",
            "Epoch 47/50\n",
            "1688/1688 [==============================] - 8s 5ms/step - loss: 0.0095 - accuracy: 0.9409 - val_loss: 0.0144 - val_accuracy: 0.9065\n",
            "Epoch 48/50\n",
            "1688/1688 [==============================] - 8s 5ms/step - loss: 0.0093 - accuracy: 0.9416 - val_loss: 0.0144 - val_accuracy: 0.9055\n",
            "Epoch 49/50\n",
            "1688/1688 [==============================] - 8s 5ms/step - loss: 0.0092 - accuracy: 0.9424 - val_loss: 0.0145 - val_accuracy: 0.9032\n",
            "Epoch 50/50\n",
            "1688/1688 [==============================] - 8s 4ms/step - loss: 0.0091 - accuracy: 0.9432 - val_loss: 0.0143 - val_accuracy: 0.9023\n",
            "313/313 [==============================] - 1s 3ms/step - loss: 0.0147 - accuracy: 0.9027\n"
          ]
        },
        {
          "output_type": "execute_result",
          "data": {
            "text/plain": [
              "[0.01469764206558466, 0.9027000069618225]"
            ]
          },
          "metadata": {},
          "execution_count": 80
        }
      ]
    },
    {
      "cell_type": "code",
      "source": [
        "model_files = [\n",
        "    'original.keras',\n",
        "    'original_cnn.keras',\n",
        "    'original_dense.keras',\n",
        "    'original_act.keras',\n",
        "    'original_loss.keras',\n",
        "    'original_sgd.keras',\n",
        "    'original_epoch.keras'\n",
        "]\n",
        "\n",
        "names = []\n",
        "paramaters = []\n",
        "accuracies = []\n",
        "losses = []\n",
        "\n",
        "for i in model_files:\n",
        "    model = tf.keras.models.load_model(i)\n",
        "    model_name = i.split('.')[0]\n",
        "    num_trainable_params = sum([tf.keras.backend.count_params(w) for w in model.trainable_weights])\n",
        "    loss, accuracy = model.evaluate(test_images, test_labels)\n",
        "    names.append(model_name)\n",
        "    paramaters.append(num_trainable_params)\n",
        "    accuracies.append(accuracy)\n",
        "    losses.append(loss)\n",
        "\n",
        "import matplotlib.pyplot as plt\n",
        "\n",
        "plt.bar(names, accuracies)\n",
        "\n",
        "# Add labels and title\n",
        "plt.xlabel('Model Name')\n",
        "plt.ylabel('Accuracy')\n",
        "plt.title('Model Name vs Accuracy')\n",
        "\n",
        "# Optionally, rotate the x-axis labels for better readability\n",
        "plt.xticks(rotation=45)\n",
        "\n",
        "# Show the chart\n",
        "plt.show()"
      ],
      "metadata": {
        "colab": {
          "base_uri": "https://localhost:8080/",
          "height": 661
        },
        "id": "sDCxWJ1_tDH2",
        "outputId": "6aa26ac1-568e-4444-9b50-cf20cd67bac0"
      },
      "execution_count": null,
      "outputs": [
        {
          "output_type": "stream",
          "name": "stdout",
          "text": [
            "313/313 [==============================] - 1s 3ms/step - loss: 0.0229 - accuracy: 0.8455\n",
            "313/313 [==============================] - 1s 3ms/step - loss: 0.0341 - accuracy: 0.7354\n",
            "313/313 [==============================] - 1s 3ms/step - loss: 0.0235 - accuracy: 0.8412\n",
            "313/313 [==============================] - 1s 2ms/step - loss: 0.0158 - accuracy: 0.8950\n",
            "313/313 [==============================] - 2s 3ms/step - loss: 0.4735 - accuracy: 0.8201\n",
            "313/313 [==============================] - 1s 3ms/step - loss: 4.8354 - accuracy: 0.1000\n",
            "313/313 [==============================] - 1s 2ms/step - loss: 0.0147 - accuracy: 0.9027\n"
          ]
        },
        {
          "output_type": "display_data",
          "data": {
            "text/plain": [
              "<Figure size 640x480 with 1 Axes>"
            ],
            "image/png": "[encoded data removed]"
          },
          "metadata": {}
        }
      ]
    },
    {
      "cell_type": "code",
      "source": [
        "plt.bar(names, losses)\n",
        "\n",
        "# Add labels and title\n",
        "plt.xlabel('Model Name')\n",
        "plt.ylabel('Losses')\n",
        "plt.title('Model Losses')\n",
        "\n",
        "# Optionally, rotate the x-axis labels for better readability\n",
        "plt.xticks(rotation=45)\n",
        "\n",
        "# Show the chart\n",
        "plt.show()"
      ],
      "metadata": {
        "colab": {
          "base_uri": "https://localhost:8080/",
          "height": 539
        },
        "id": "fKeE2zrgvsn8",
        "outputId": "de579d3d-ab1d-4805-9a0d-37b3023dcf26"
      },
      "execution_count": null,
      "outputs": [
        {
          "output_type": "display_data",
          "data": {
            "text/plain": [
              "<Figure size 640x480 with 1 Axes>"
            ],
            "image/png": "[encoded data removed]"
          },
          "metadata": {}
        }
      ]
    },
    {
      "cell_type": "code",
      "source": [
        "plt.bar(names, paramaters)\n",
        "\n",
        "# Add labels and title\n",
        "plt.xlabel('Model Name')\n",
        "plt.ylabel('Parameters')\n",
        "plt.title('Model Name vs Parameters')\n",
        "\n",
        "# Optionally, rotate the x-axis labels for better readability\n",
        "plt.xticks(rotation=45)\n",
        "\n",
        "# Show the chart\n",
        "plt.show()"
      ],
      "metadata": {
        "colab": {
          "base_uri": "https://localhost:8080/",
          "height": 539
        },
        "id": "8BSW9ubKv0Mf",
        "outputId": "f07398c8-276a-4c5d-f347-57348c4f610b"
      },
      "execution_count": null,
      "outputs": [
        {
          "output_type": "display_data",
          "data": {
            "text/plain": [
              "<Figure size 640x480 with 1 Axes>"
            ],
            "image/png": "[encoded data removed]"
          },
          "metadata": {}
        }
      ]
    },
    {
      "cell_type": "markdown",
      "source": [
        "###Intrepretation of the Above Result\n",
        "\n",
        "- Given different model implementations, in terms of accuracy, we can see that increasing the epochs significantly increased the model's accuracy. When we change the optimizer from Adam to Stochastic Gradient Descent, the model accuracy decreases alot.\n",
        "- Model Losses are very high with stochastic gradient descent. In verifies our results from the Model vs Accuracy bar chart, where the model with SGD had minimum accuracy, and a very high losses.\n",
        "- If we look at the parameters, increasing the cnn layers in the model decreases the parameters more than halve, while making other changes to model does not have any effect.\n"
      ],
      "metadata": {
        "id": "N-RZ4xdLwE-b"
      }
    }
  ]
}